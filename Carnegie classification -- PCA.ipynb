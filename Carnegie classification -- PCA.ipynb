{
 "cells": [
  {
   "cell_type": "markdown",
   "metadata": {},
   "source": [
    "https://www.datacamp.com/community/tutorials/principal-component-analysis-in-python\n",
    "\n",
    "https://towardsdatascience.com/pca-using-python-scikit-learn-e653f8989e60"
   ]
  },
  {
   "cell_type": "code",
   "execution_count": 1,
   "metadata": {},
   "outputs": [
    {
     "name": "stdout",
     "output_type": "stream",
     "text": [
      "Index(['UNITID', 'NAME', 'CITY', 'STABBR', 'CC2000', 'BASIC2005', 'BASIC2010',\n",
      "       'BASIC2015', 'BASIC2018', 'IPUG2018',\n",
      "       ...\n",
      "       'Unnamed: 98', 'Unnamed: 99', 'Unnamed: 100', 'Unnamed: 101',\n",
      "       'Unnamed: 102', 'Unnamed: 103', 'Unnamed: 104', 'Unnamed: 105',\n",
      "       'Unnamed: 106', 'Unnamed: 107'],\n",
      "      dtype='object', length=108)\n"
     ]
    }
   ],
   "source": [
    "import pandas as pd\n",
    "import numpy as np\n",
    "df=pd.read_csv('CCIHE2018.csv',encoding='latin-1')\n",
    "print(df.columns)"
   ]
  },
  {
   "cell_type": "code",
   "execution_count": 2,
   "metadata": {},
   "outputs": [
    {
     "name": "stdout",
     "output_type": "stream",
     "text": [
      "Index(['UNITID', 'NAME', 'CITY', 'STABBR', 'CC2000', 'BASIC2005', 'BASIC2010',\n",
      "       'BASIC2015', 'BASIC2018', 'IPUG2018', 'IPGRAD2018', 'ENRPROFILE2018',\n",
      "       'UGPROFILE2018', 'SIZESET2018', 'CCE2015', 'OBEREG', 'SECTOR',\n",
      "       'ICLEVEL', 'CONTROL', 'LOCALE', 'LANDGRNT', 'MEDICAL', 'HBCU', 'TRIBAL',\n",
      "       'HSI', 'MSI', 'WOMENS', 'COPLAC', 'CUSU', 'CUMU', 'ASSOCDEG', 'BACCDEG',\n",
      "       'MASTDEG', 'DOCRSDEG', 'DOCPPDEG', 'DOCOTHDEG', 'TOTDEG', 'S_ER_D',\n",
      "       'NONS_ER_D', 'PDNFRSTAFF', 'FACNUM', 'HUM_RSD', 'SOCSC_RSD', 'STEM_RSD',\n",
      "       'OTHER_RSD', 'DRSA_S', 'DRSPROF', 'OGRDA_S', 'OGRDPROF', 'A_SBADEG',\n",
      "       'PROFBADEG', 'ASC1C2TRNS', 'ASC1C2CRTC', 'FALLENR16', 'ANENR1617',\n",
      "       'FALLENR17', 'FALLFTE17', 'UGTENR17', 'GRTENR17', 'UGDSFTF17',\n",
      "       'UGDSPTF17', 'UGNDFT17', 'UGNDPT17', 'GRFTF17', 'GRPTF17',\n",
      "       'UGN1STTMFT17', 'UGN1STTMPT17', 'UGNTRFT17', 'UGNTRPT17', 'FAITHFLAG',\n",
      "       'OTHSFFLAG', 'NUMCIP2', 'LRGSTCIP2', 'PCTLRGST', 'UGCIP4PR', 'GRCIP4PR',\n",
      "       'COEXPR', 'PCTCOEX', 'DOCRESFLAG', 'MAXGPEDUC', 'MAXGPBUS', 'MAXGPOTH',\n",
      "       'NGCIP2PXDR', 'NGCIP2DR', 'ROOMS', 'ACTCAT', 'NSAT', 'NACT', 'NSATACT',\n",
      "       'SATV25', 'SATM25', 'SATCMB25', 'SATACTEQ25', 'ACTCMP25', 'ACTFINAL'],\n",
      "      dtype='object')\n"
     ]
    }
   ],
   "source": [
    "df = df[df['BASIC2018'].isin([15,16,17])] #Doctoral\n",
    "df = df[df['UNITID']!=185828] ##New Jersey Institute of Technology\n",
    "df = df[df['UNITID']!=204857] ##Ohio University-Main Campus\n",
    "df = df.loc[:, ~df.columns.str.contains('^Unnamed')]\n",
    "df.columns=df.columns.str.replace('&','_')\n",
    "df.columns=df.columns.str.replace(' ','')\n",
    "df.fillna(0,inplace=True)\n",
    "print(df.columns)\n",
    "##& df['UNITID']!=185828]\n",
    "##df.query('BASIC2018 ==[15,16,17] & UNITID!=185828')\n"
   ]
  },
  {
   "cell_type": "code",
   "execution_count": 3,
   "metadata": {},
   "outputs": [],
   "source": [
    "df=df.replace(to_replace='.*NotIn/*',value='', regex=True)\n",
    "df=df.replace(to_replace='.*Notin/*',value='', regex=True)\n",
    "#df.S_ER_D[df['UNITID']==185828]"
   ]
  },
  {
   "cell_type": "code",
   "execution_count": 66,
   "metadata": {},
   "outputs": [],
   "source": [
    "df['S_ER_D']=df['S_ER_D'].astype(int)\n",
    "df['NONS_ER_D']=df['NONS_ER_D'].astype(int)\n",
    "df['PDNFRSTAFF']=df['PDNFRSTAFF'].astype(int)\n",
    "df['FACNUM']=df['FACNUM'].astype(int)\n",
    "df['SOCSC_RSD']=df['SOCSC_RSD'].astype(int)\n",
    "df['STEM_RSD']=df['STEM_RSD'].astype(int)\n",
    "df['HUM_RSD']=df['HUM_RSD'].astype(int)\n",
    "\n",
    "df.fillna(0,inplace=True)\n",
    "##df['HUM_RSD'].head(10)"
   ]
  },
  {
   "cell_type": "code",
   "execution_count": 67,
   "metadata": {},
   "outputs": [],
   "source": [
    "def division(n,d):\n",
    "    try:\n",
    "        return n/d\n",
    "    except ZeroDivisionError:\n",
    "        return 0\n",
    "\n",
    "##df['Per_Cap_SE_Exp']=df.S_ER_D/df.FACNUM\n",
    "##df['Per_Cap_Non_SE']=df.NONS_ER_D/df.FACNUM\n",
    "##df['Per_Cap_Prof_Staf']=df.PDNFRSTAFF/df.FACNUM\n",
    "\n",
    "df['Per_Cap_SE_Exp']=division(df['S_ER_D'],df['FACNUM'])\n",
    "df['Per_Cap_Non_SE']=division(df['NONS_ER_D'],df['FACNUM'])\n",
    "df['Per_Cap_Prof_Staf']=division(df['PDNFRSTAFF'],df['FACNUM'])\n",
    "\n",
    "df.fillna(0,inplace=True)\n",
    "\n",
    "aggregate=['HUM_RSD','NONS_ER_D','OTHER_RSD','PDNFRSTAFF','S_ER_D','SOCSC_RSD','STEM_RSD']\n",
    "perCapita=['Per_Cap_SE_Exp','Per_Cap_Non_SE','Per_Cap_Prof_Staf']"
   ]
  },
  {
   "cell_type": "code",
   "execution_count": 68,
   "metadata": {},
   "outputs": [],
   "source": [
    "from sklearn.preprocessing import StandardScaler\n",
    "\n",
    "#Normalization\n",
    "features = df[perCapita]\n",
    "scaler = StandardScaler().fit(features.values)\n",
    "features = scaler.transform(features.values)\n",
    "df[perCapita] = features\n",
    "\n",
    "\n",
    "#Normalization\n",
    "features = df[aggregate]\n",
    "scaler = StandardScaler().fit(features.values)\n",
    "features = scaler.transform(features.values)\n",
    "df[aggregate] = features\n",
    "\n",
    "\n",
    "\n"
   ]
  },
  {
   "cell_type": "code",
   "execution_count": 69,
   "metadata": {},
   "outputs": [],
   "source": [
    "from sklearn.decomposition import PCA\n",
    "pca = PCA(n_components=1)\n",
    "principalComponents = pca.fit_transform(df[['HUM_RSD','NONS_ER_D','OTHER_RSD','PDNFRSTAFF','S_ER_D','SOCSC_RSD','STEM_RSD']])\n",
    "##principalDf = pd.DataFrame(data = principalComponents\n",
    "             #,columns = ['principal component 1'])\n",
    "df.insert(0,'PrincipalComponents1',principalComponents)"
   ]
  },
  {
   "cell_type": "code",
   "execution_count": 70,
   "metadata": {},
   "outputs": [],
   "source": [
    "pca = PCA(n_components=1)\n",
    "principalComponents1 = pca.fit_transform(df[['Per_Cap_SE_Exp','Per_Cap_Non_SE','Per_Cap_Prof_Staf']])\n",
    "##principalDf2 = pd.DataFrame(data = principalComponents\n",
    "             ##,columns = ['principal component 2'])\n",
    "df.insert(0,'PrincipalComponents2',principalComponents1)"
   ]
  },
  {
   "cell_type": "code",
   "execution_count": 75,
   "metadata": {},
   "outputs": [],
   "source": [
    "from scipy.stats import zscore\n",
    "df['PrincipalComponents1']=zscore(df['PrincipalComponents1'])\n",
    "df['PrincipalComponents2']=zscore(df['PrincipalComponents2'])\n"
   ]
  },
  {
   "cell_type": "code",
   "execution_count": 87,
   "metadata": {},
   "outputs": [
    {
     "data": {
      "image/png": "[encoded data removed]",
      "text/plain": [
       "<Figure size 576x576 with 1 Axes>"
      ]
     },
     "metadata": {},
     "output_type": "display_data"
    }
   ],
   "source": [
    "import matplotlib.pyplot as plt\n",
    "\n",
    "fig = plt.figure(figsize = (8,8))\n",
    "ax = fig.add_subplot(1,1,1) \n",
    "\n",
    "ax.set_xlabel('Principal Component 1', fontsize = 15)\n",
    "##ax.set_xlim([0, 10])\n",
    "\n",
    "ax.set_ylabel('Principal Component 2', fontsize = 15)\n",
    "##ax.set_ylim([0, 10])\n",
    "\n",
    "ax.set_title('2 component PCA', fontsize = 20)\n",
    "targets = [15, 16, 17]\n",
    "colors = ['r', 'g', 'b']\n",
    "\n",
    "\n",
    "for target, color in zip(targets,colors):\n",
    "    indicesToKeep = df['BASIC2018'] == target\n",
    "    x=df.loc[indicesToKeep, 'PrincipalComponents1']\n",
    "    y=df.loc[indicesToKeep, 'PrincipalComponents2']\n",
    "   # t=df.loc[indicesToKeep, 'NAME']\n",
    "    \n",
    "    ax.scatter(x, y, c = color, s = 50)\n",
    "    #ax.text(x,y)#,t)\n",
    "\n",
    "\n",
    "ax.annotate('Nova Southeastern University', xy=(1.4, -.5), xytext=(1.8, 0),\n",
    "            arrowprops=dict(facecolor='black', shrink=0.01),\n",
    "            )    \n",
    "ax.annotate('California Institute of Technology', xy=(0.5, 6.4), xytext=(0.8, 6.8),\n",
    "            arrowprops=dict(facecolor='black', shrink=0.01),\n",
    "            ) \n",
    "ax.annotate('Rockefeller University', xy=(-0.2, 12.1), xytext=(0.3, 11.6),\n",
    "            arrowprops=dict(facecolor='black', shrink=0.01),\n",
    "            ) \n",
    "ax.annotate('Havard University', xy=(5.6, 6.1), xytext=(5, 6.9),\n",
    "            arrowprops=dict(facecolor='black', shrink=0.01),\n",
    "            )  \n",
    "ax.annotate('American University', xy=(0.1, 0.9), xytext=(0.7, 1.5),\n",
    "            arrowprops=dict(facecolor='black', shrink=0.01),\n",
    "            )   \n",
    "#theta = np.arange(0, np.pi / 2, 0.01)\n",
    "#ax.plot(0.6 * np.cos(theta), 0.6 * np.sin(theta))\n",
    "\n",
    "ax.legend(targets)\n",
    "ax.grid()"
   ]
  },
  {
   "cell_type": "code",
   "execution_count": 17,
   "metadata": {},
   "outputs": [
    {
     "data": {
      "text/plain": [
       "count    4.160000e+02\n",
       "mean    -2.496667e-16\n",
       "std      2.231866e+00\n",
       "min     -1.448419e+00\n",
       "25%     -1.448419e+00\n",
       "50%     -1.006169e+00\n",
       "75%      4.683128e-01\n",
       "max      1.231703e+01\n",
       "Name: PrincipalComponents1, dtype: float64"
      ]
     },
     "execution_count": 17,
     "metadata": {},
     "output_type": "execute_result"
    }
   ],
   "source": [
    "df['PrincipalComponents1'].describe()"
   ]
  },
  {
   "cell_type": "code",
   "execution_count": 16,
   "metadata": {},
   "outputs": [
    {
     "name": "stderr",
     "output_type": "stream",
     "text": [
      "C:\\Users\\wei-hsuan.tsui\\AppData\\Roaming\\Python\\Python36\\site-packages\\matplotlib\\axes\\_axes.py:6521: MatplotlibDeprecationWarning: \n",
      "The 'normed' kwarg was deprecated in Matplotlib 2.1 and will be removed in 3.1. Use 'density' instead.\n",
      "  alternative=\"'density'\", removal=\"3.1\")\n"
     ]
    },
    {
     "data": {
      "text/plain": [
       "<matplotlib.axes._subplots.AxesSubplot at 0x2a7aa1a4b38>"
      ]
     },
     "execution_count": 16,
     "metadata": {},
     "output_type": "execute_result"
    },
    {
     "data": {
      "image/png": "[encoded data removed]",
      "text/plain": [
       "<Figure size 432x288 with 1 Axes>"
      ]
     },
     "metadata": {},
     "output_type": "display_data"
    }
   ],
   "source": [
    "import seaborn as sns\n",
    "sns.distplot(df['PrincipalComponents1'])"
   ]
  },
  {
   "cell_type": "code",
   "execution_count": 74,
   "metadata": {},
   "outputs": [
    {
     "data": {
      "text/html": [
       "<div>\n",
       "<style scoped>\n",
       "    .dataframe tbody tr th:only-of-type {\n",
       "        vertical-align: middle;\n",
       "    }\n",
       "\n",
       "    .dataframe tbody tr th {\n",
       "        vertical-align: top;\n",
       "    }\n",
       "\n",
       "    .dataframe thead th {\n",
       "        text-align: right;\n",
       "    }\n",
       "</style>\n",
       "<table border=\"1\" class=\"dataframe\">\n",
       "  <thead>\n",
       "    <tr style=\"text-align: right;\">\n",
       "      <th></th>\n",
       "      <th>PrincipalComponents2</th>\n",
       "      <th>PrincipalComponents1</th>\n",
       "      <th>UNITID</th>\n",
       "      <th>NAME</th>\n",
       "      <th>CITY</th>\n",
       "      <th>STABBR</th>\n",
       "      <th>CC2000</th>\n",
       "      <th>BASIC2005</th>\n",
       "      <th>BASIC2010</th>\n",
       "      <th>BASIC2015</th>\n",
       "      <th>...</th>\n",
       "      <th>NSATACT</th>\n",
       "      <th>SATV25</th>\n",
       "      <th>SATM25</th>\n",
       "      <th>SATCMB25</th>\n",
       "      <th>SATACTEQ25</th>\n",
       "      <th>ACTCMP25</th>\n",
       "      <th>ACTFINAL</th>\n",
       "      <th>Per_Cap_SE_Exp</th>\n",
       "      <th>Per_Cap_Non_SE</th>\n",
       "      <th>Per_Cap_Prof_Staf</th>\n",
       "    </tr>\n",
       "  </thead>\n",
       "  <tbody>\n",
       "    <tr>\n",
       "      <th>118</th>\n",
       "      <td>1.136391</td>\n",
       "      <td>0.128097</td>\n",
       "      <td>131159</td>\n",
       "      <td>American University</td>\n",
       "      <td>Washington</td>\n",
       "      <td>DC</td>\n",
       "      <td>15</td>\n",
       "      <td>17</td>\n",
       "      <td>17</td>\n",
       "      <td>16</td>\n",
       "      <td>...</td>\n",
       "      <td>1574</td>\n",
       "      <td>610</td>\n",
       "      <td>570</td>\n",
       "      <td>1180</td>\n",
       "      <td>24</td>\n",
       "      <td>26</td>\n",
       "      <td>25</td>\n",
       "      <td>-0.29366</td>\n",
       "      <td>3.717989</td>\n",
       "      <td>-0.373638</td>\n",
       "    </tr>\n",
       "  </tbody>\n",
       "</table>\n",
       "<p>1 rows × 100 columns</p>\n",
       "</div>"
      ],
      "text/plain": [
       "     PrincipalComponents2  PrincipalComponents1  UNITID                 NAME  \\\n",
       "118              1.136391              0.128097  131159  American University   \n",
       "\n",
       "           CITY STABBR  CC2000  BASIC2005  BASIC2010  BASIC2015  ...  NSATACT  \\\n",
       "118  Washington     DC      15         17         17         16  ...     1574   \n",
       "\n",
       "     SATV25  SATM25  SATCMB25  SATACTEQ25  ACTCMP25  ACTFINAL  Per_Cap_SE_Exp  \\\n",
       "118     610     570      1180          24        26        25        -0.29366   \n",
       "\n",
       "     Per_Cap_Non_SE  Per_Cap_Prof_Staf  \n",
       "118        3.717989          -0.373638  \n",
       "\n",
       "[1 rows x 100 columns]"
      ]
     },
     "execution_count": 74,
     "metadata": {},
     "output_type": "execute_result"
    }
   ],
   "source": [
    "df.query(' PrincipalComponents1<2 and PrincipalComponents1>0 and PrincipalComponents2>1 and BASIC2018==16')"
   ]
  },
  {
   "cell_type": "code",
   "execution_count": null,
   "metadata": {},
   "outputs": [],
   "source": []
  }
 ],
 "metadata": {
  "kernelspec": {
   "display_name": "Python 3",
   "language": "python",
   "name": "python3"
  },
  "language_info": {
   "codemirror_mode": {
    "name": "ipython",
    "version": 3
   },
   "file_extension": ".py",
   "mimetype": "text/x-python",
   "name": "python",
   "nbconvert_exporter": "python",
   "pygments_lexer": "ipython3",
   "version": "3.6.5"
  }
 },
 "nbformat": 4,
 "nbformat_minor": 2
}
